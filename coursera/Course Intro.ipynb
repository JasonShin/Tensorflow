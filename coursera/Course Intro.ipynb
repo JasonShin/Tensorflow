{
 "cells": [
  {
   "cell_type": "markdown",
   "metadata": {},
   "source": [
    "# What is AI\n",
    "- AI is the new Electricty\n",
    "- AI will now bring about an equally big transformation\n",
    "\n",
    "# What you will learn\n",
    "1. Neural Network and Deep Learning\n",
    "2. Improve Deep Neural Nets: Hyperparamter tuning, Regularization and Optimization\n",
    "3. Structuring ML project\n",
    "4. Convolutional Neural Nets\n",
    "5. Natural Language Processing: Reucrrent Neural Nets and LSTM (Building sequence models)\n"
   ]
  },
  {
   "cell_type": "markdown",
   "metadata": {
    "collapsed": true
   },
   "source": [
    "# Housing Price Prediction\n",
    "![Housing Price](images/housingprice.PNG)\n",
    "- The diagonal line is ReLU\n",
    "\n",
    "![Relu](images/housingpricerelu.PNG)\n",
    "\n",
    "X can be size, #bedrooms -> y can be family size\n",
    "\n",
    "X can be zip code (postal code) -> y can be walkability\n",
    "\n",
    "X can be wealth -> y can be school quality\n",
    "\n",
    "after relu\n",
    "\n",
    "-> price"
   ]
  },
  {
   "cell_type": "markdown",
   "metadata": {},
   "source": [
    "## Use cases of supervised learning\n",
    "![Supervised Learning](images/supervisedlearning.PNG)\n",
    "\n",
    "Standard NN -> 1, 2\n",
    "\n",
    "CNN -> 3\n",
    "\n",
    "RNN -> 4, 5\n",
    "\n",
    "Custom / Hybrid -> 6"
   ]
  },
  {
   "cell_type": "code",
   "execution_count": null,
   "metadata": {
    "collapsed": true
   },
   "outputs": [],
   "source": []
  }
 ],
 "metadata": {
  "kernelspec": {
   "display_name": "Python 3",
   "language": "python",
   "name": "python3"
  },
  "language_info": {
   "codemirror_mode": {
    "name": "ipython",
    "version": 3
   },
   "file_extension": ".py",
   "mimetype": "text/x-python",
   "name": "python",
   "nbconvert_exporter": "python",
   "pygments_lexer": "ipython3",
   "version": "3.6.3"
  }
 },
 "nbformat": 4,
 "nbformat_minor": 2
}
